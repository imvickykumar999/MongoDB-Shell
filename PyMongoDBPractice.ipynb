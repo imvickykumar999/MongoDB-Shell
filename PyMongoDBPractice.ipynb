{
 "cells": [
  {
   "cell_type": "markdown",
   "id": "308f8148",
   "metadata": {},
   "source": [
    "# [Python MongoDB](https://www.w3schools.com/python/python_mongodb_create_collection.asp)"
   ]
  },
  {
   "cell_type": "code",
   "execution_count": 1,
   "id": "7c484b16",
   "metadata": {},
   "outputs": [],
   "source": [
    "import pymongo"
   ]
  },
  {
   "cell_type": "code",
   "execution_count": 2,
   "id": "38165713",
   "metadata": {},
   "outputs": [
    {
     "data": {
      "text/plain": [
       "MongoClient(host=['localhost:27017'], document_class=dict, tz_aware=False, connect=True)"
      ]
     },
     "execution_count": 2,
     "metadata": {},
     "output_type": "execute_result"
    }
   ],
   "source": [
    "myclient = pymongo.MongoClient(\"mongodb://localhost:27017/\")\n",
    "myclient"
   ]
  },
  {
   "cell_type": "code",
   "execution_count": 3,
   "id": "edbaf3e0",
   "metadata": {},
   "outputs": [
    {
     "data": {
      "text/plain": [
       "Database(MongoClient(host=['localhost:27017'], document_class=dict, tz_aware=False, connect=True), 'mydatabase')"
      ]
     },
     "execution_count": 3,
     "metadata": {},
     "output_type": "execute_result"
    }
   ],
   "source": [
    "mydb = myclient[\"mydatabase\"]\n",
    "mydb"
   ]
  },
  {
   "cell_type": "code",
   "execution_count": 4,
   "id": "e2701662",
   "metadata": {},
   "outputs": [
    {
     "name": "stdout",
     "output_type": "stream",
     "text": [
      "['admin', 'appdb', 'config', 'local', 'mydatabase', 'mydb', 'users']\n"
     ]
    }
   ],
   "source": [
    "print(myclient.list_database_names())"
   ]
  },
  {
   "cell_type": "code",
   "execution_count": 5,
   "id": "8861711b",
   "metadata": {},
   "outputs": [
    {
     "name": "stdout",
     "output_type": "stream",
     "text": [
      "The database exists.\n"
     ]
    }
   ],
   "source": [
    "dblist = myclient.list_database_names()\n",
    "if \"mydatabase\" in dblist:\n",
    "    print(\"The database exists.\")"
   ]
  },
  {
   "cell_type": "code",
   "execution_count": 6,
   "id": "6874dbcb",
   "metadata": {},
   "outputs": [
    {
     "data": {
      "text/plain": [
       "<pymongo.results.InsertOneResult at 0x25ec9cb54c0>"
      ]
     },
     "execution_count": 6,
     "metadata": {},
     "output_type": "execute_result"
    }
   ],
   "source": [
    "mydict = { \"name\": \"John\", \"address\": \"Highway 37\" }\n",
    "mycol = mydb[\"customers\"]\n",
    "\n",
    "x = mycol.insert_one(mydict)\n",
    "x"
   ]
  },
  {
   "cell_type": "code",
   "execution_count": 7,
   "id": "1d4fde02",
   "metadata": {},
   "outputs": [
    {
     "name": "stdout",
     "output_type": "stream",
     "text": [
      "63bfe85c7d93281ceeb3fe11\n"
     ]
    }
   ],
   "source": [
    "mydict = { \"name\": \"Peter\", \"address\": \"Lowstreet 27\" }\n",
    "x = mycol.insert_one(mydict)\n",
    "print(x.inserted_id)"
   ]
  },
  {
   "cell_type": "code",
   "execution_count": 8,
   "id": "18e8b32f",
   "metadata": {},
   "outputs": [
    {
     "name": "stdout",
     "output_type": "stream",
     "text": [
      "[ObjectId('63bfe85c7d93281ceeb3fe12'), ObjectId('63bfe85c7d93281ceeb3fe13'), ObjectId('63bfe85c7d93281ceeb3fe14'), ObjectId('63bfe85c7d93281ceeb3fe15'), ObjectId('63bfe85c7d93281ceeb3fe16'), ObjectId('63bfe85c7d93281ceeb3fe17'), ObjectId('63bfe85c7d93281ceeb3fe18'), ObjectId('63bfe85c7d93281ceeb3fe19'), ObjectId('63bfe85c7d93281ceeb3fe1a'), ObjectId('63bfe85c7d93281ceeb3fe1b'), ObjectId('63bfe85c7d93281ceeb3fe1c'), ObjectId('63bfe85c7d93281ceeb3fe1d')]\n"
     ]
    }
   ],
   "source": [
    "mylist = [\n",
    "  { \"name\": \"Amy\", \"address\": \"Apple st 652\"},\n",
    "  { \"name\": \"Hannah\", \"address\": \"Mountain 21\"},\n",
    "  { \"name\": \"Michael\", \"address\": \"Valley 345\"},\n",
    "  { \"name\": \"Sandy\", \"address\": \"Ocean blvd 2\"},\n",
    "  { \"name\": \"Betty\", \"address\": \"Green Grass 1\"},\n",
    "  { \"name\": \"Richard\", \"address\": \"Sky st 331\"},\n",
    "  { \"name\": \"Susan\", \"address\": \"One way 98\"},\n",
    "  { \"name\": \"Vicky\", \"address\": \"Yellow Garden 2\"},\n",
    "  { \"name\": \"Ben\", \"address\": \"Park Lane 38\"},\n",
    "  { \"name\": \"William\", \"address\": \"Central st 954\"},\n",
    "  { \"name\": \"Chuck\", \"address\": \"Main Road 989\"},\n",
    "  { \"name\": \"Viola\", \"address\": \"Sideway 1633\"}\n",
    "]\n",
    "\n",
    "x = mycol.insert_many(mylist)\n",
    "print(x.inserted_ids)"
   ]
  },
  {
   "cell_type": "code",
   "execution_count": 9,
   "id": "056ac186",
   "metadata": {},
   "outputs": [
    {
     "name": "stdout",
     "output_type": "stream",
     "text": [
      "{'_id': ObjectId('63bfe6fff10999cc549b9bb3'), 'name': 'John', 'address': 'Highway 37'}\n"
     ]
    }
   ],
   "source": [
    "x = mycol.find_one()\n",
    "print(x)"
   ]
  },
  {
   "cell_type": "code",
   "execution_count": 10,
   "id": "fd377abb",
   "metadata": {
    "scrolled": true
   },
   "outputs": [
    {
     "name": "stdout",
     "output_type": "stream",
     "text": [
      "{'_id': ObjectId('63bfe6fff10999cc549b9bb3'), 'name': 'John', 'address': 'Highway 37'}\n",
      "{'_id': ObjectId('63bfe6fff10999cc549b9bb4'), 'name': 'Peter', 'address': 'Lowstreet 27'}\n",
      "{'_id': ObjectId('63bfe6fff10999cc549b9bb5'), 'name': 'Minnie', 'address': 'Apple st 652'}\n",
      "{'_id': ObjectId('63bfe6fff10999cc549b9bb7'), 'name': 'Michael', 'address': 'Canyon 123'}\n",
      "{'_id': ObjectId('63bfe6fff10999cc549b9bb8'), 'name': 'Minnie', 'address': 'Ocean blvd 2'}\n",
      "{'_id': ObjectId('63bfe6fff10999cc549b9bb9'), 'name': 'Betty', 'address': 'Green Grass 1'}\n",
      "{'_id': ObjectId('63bfe6fff10999cc549b9bbb'), 'name': 'Minnie', 'address': 'One way 98'}\n",
      "{'_id': ObjectId('63bfe6fff10999cc549b9bbc'), 'name': 'Vicky', 'address': 'Yellow Garden 2'}\n",
      "{'_id': ObjectId('63bfe6fff10999cc549b9bbd'), 'name': 'Ben', 'address': 'Park Lane 38'}\n",
      "{'_id': ObjectId('63bfe6fff10999cc549b9bbe'), 'name': 'William', 'address': 'Central st 954'}\n",
      "{'_id': ObjectId('63bfe6fff10999cc549b9bbf'), 'name': 'Chuck', 'address': 'Main Road 989'}\n",
      "{'_id': ObjectId('63bfe84e7c4922f32253b4d8'), 'name': 'John', 'address': 'Highway 37'}\n",
      "{'_id': ObjectId('63bfe85c7d93281ceeb3fe10'), 'name': 'John', 'address': 'Highway 37'}\n",
      "{'_id': ObjectId('63bfe85c7d93281ceeb3fe11'), 'name': 'Peter', 'address': 'Lowstreet 27'}\n",
      "{'_id': ObjectId('63bfe85c7d93281ceeb3fe12'), 'name': 'Amy', 'address': 'Apple st 652'}\n",
      "{'_id': ObjectId('63bfe85c7d93281ceeb3fe13'), 'name': 'Hannah', 'address': 'Mountain 21'}\n",
      "{'_id': ObjectId('63bfe85c7d93281ceeb3fe14'), 'name': 'Michael', 'address': 'Valley 345'}\n",
      "{'_id': ObjectId('63bfe85c7d93281ceeb3fe15'), 'name': 'Sandy', 'address': 'Ocean blvd 2'}\n",
      "{'_id': ObjectId('63bfe85c7d93281ceeb3fe16'), 'name': 'Betty', 'address': 'Green Grass 1'}\n",
      "{'_id': ObjectId('63bfe85c7d93281ceeb3fe17'), 'name': 'Richard', 'address': 'Sky st 331'}\n",
      "{'_id': ObjectId('63bfe85c7d93281ceeb3fe18'), 'name': 'Susan', 'address': 'One way 98'}\n",
      "{'_id': ObjectId('63bfe85c7d93281ceeb3fe19'), 'name': 'Vicky', 'address': 'Yellow Garden 2'}\n",
      "{'_id': ObjectId('63bfe85c7d93281ceeb3fe1a'), 'name': 'Ben', 'address': 'Park Lane 38'}\n",
      "{'_id': ObjectId('63bfe85c7d93281ceeb3fe1b'), 'name': 'William', 'address': 'Central st 954'}\n",
      "{'_id': ObjectId('63bfe85c7d93281ceeb3fe1c'), 'name': 'Chuck', 'address': 'Main Road 989'}\n",
      "{'_id': ObjectId('63bfe85c7d93281ceeb3fe1d'), 'name': 'Viola', 'address': 'Sideway 1633'}\n"
     ]
    }
   ],
   "source": [
    "for x in mycol.find():\n",
    "    print(x)"
   ]
  },
  {
   "cell_type": "code",
   "execution_count": 11,
   "id": "59bfa272",
   "metadata": {},
   "outputs": [
    {
     "data": {
      "text/plain": [
       "<pymongo.cursor.Cursor at 0x25ecbd82e50>"
      ]
     },
     "execution_count": 11,
     "metadata": {},
     "output_type": "execute_result"
    }
   ],
   "source": [
    "mycol.find()"
   ]
  },
  {
   "cell_type": "code",
   "execution_count": 12,
   "id": "7d6aa925",
   "metadata": {
    "scrolled": true
   },
   "outputs": [
    {
     "name": "stdout",
     "output_type": "stream",
     "text": [
      "{'name': 'John', 'address': 'Highway 37'}\n",
      "{'name': 'Peter', 'address': 'Lowstreet 27'}\n",
      "{'name': 'Minnie', 'address': 'Apple st 652'}\n",
      "{'name': 'Michael', 'address': 'Canyon 123'}\n",
      "{'name': 'Minnie', 'address': 'Ocean blvd 2'}\n",
      "{'name': 'Betty', 'address': 'Green Grass 1'}\n",
      "{'name': 'Minnie', 'address': 'One way 98'}\n",
      "{'name': 'Vicky', 'address': 'Yellow Garden 2'}\n",
      "{'name': 'Ben', 'address': 'Park Lane 38'}\n",
      "{'name': 'William', 'address': 'Central st 954'}\n",
      "{'name': 'Chuck', 'address': 'Main Road 989'}\n",
      "{'name': 'John', 'address': 'Highway 37'}\n",
      "{'name': 'John', 'address': 'Highway 37'}\n",
      "{'name': 'Peter', 'address': 'Lowstreet 27'}\n",
      "{'name': 'Amy', 'address': 'Apple st 652'}\n",
      "{'name': 'Hannah', 'address': 'Mountain 21'}\n",
      "{'name': 'Michael', 'address': 'Valley 345'}\n",
      "{'name': 'Sandy', 'address': 'Ocean blvd 2'}\n",
      "{'name': 'Betty', 'address': 'Green Grass 1'}\n",
      "{'name': 'Richard', 'address': 'Sky st 331'}\n",
      "{'name': 'Susan', 'address': 'One way 98'}\n",
      "{'name': 'Vicky', 'address': 'Yellow Garden 2'}\n",
      "{'name': 'Ben', 'address': 'Park Lane 38'}\n",
      "{'name': 'William', 'address': 'Central st 954'}\n",
      "{'name': 'Chuck', 'address': 'Main Road 989'}\n",
      "{'name': 'Viola', 'address': 'Sideway 1633'}\n"
     ]
    }
   ],
   "source": [
    "for x in mycol.find({},{ \"_id\": 0, \"name\": 1, \"address\": 1 }):\n",
    "    print(x)"
   ]
  },
  {
   "cell_type": "code",
   "execution_count": 13,
   "id": "d1299822",
   "metadata": {
    "scrolled": true
   },
   "outputs": [
    {
     "name": "stdout",
     "output_type": "stream",
     "text": [
      "{'_id': ObjectId('63bfe6fff10999cc549b9bb3'), 'name': 'John'}\n",
      "{'_id': ObjectId('63bfe6fff10999cc549b9bb4'), 'name': 'Peter'}\n",
      "{'_id': ObjectId('63bfe6fff10999cc549b9bb5'), 'name': 'Minnie'}\n",
      "{'_id': ObjectId('63bfe6fff10999cc549b9bb7'), 'name': 'Michael'}\n",
      "{'_id': ObjectId('63bfe6fff10999cc549b9bb8'), 'name': 'Minnie'}\n",
      "{'_id': ObjectId('63bfe6fff10999cc549b9bb9'), 'name': 'Betty'}\n",
      "{'_id': ObjectId('63bfe6fff10999cc549b9bbb'), 'name': 'Minnie'}\n",
      "{'_id': ObjectId('63bfe6fff10999cc549b9bbc'), 'name': 'Vicky'}\n",
      "{'_id': ObjectId('63bfe6fff10999cc549b9bbd'), 'name': 'Ben'}\n",
      "{'_id': ObjectId('63bfe6fff10999cc549b9bbe'), 'name': 'William'}\n",
      "{'_id': ObjectId('63bfe6fff10999cc549b9bbf'), 'name': 'Chuck'}\n",
      "{'_id': ObjectId('63bfe84e7c4922f32253b4d8'), 'name': 'John'}\n",
      "{'_id': ObjectId('63bfe85c7d93281ceeb3fe10'), 'name': 'John'}\n",
      "{'_id': ObjectId('63bfe85c7d93281ceeb3fe11'), 'name': 'Peter'}\n",
      "{'_id': ObjectId('63bfe85c7d93281ceeb3fe12'), 'name': 'Amy'}\n",
      "{'_id': ObjectId('63bfe85c7d93281ceeb3fe13'), 'name': 'Hannah'}\n",
      "{'_id': ObjectId('63bfe85c7d93281ceeb3fe14'), 'name': 'Michael'}\n",
      "{'_id': ObjectId('63bfe85c7d93281ceeb3fe15'), 'name': 'Sandy'}\n",
      "{'_id': ObjectId('63bfe85c7d93281ceeb3fe16'), 'name': 'Betty'}\n",
      "{'_id': ObjectId('63bfe85c7d93281ceeb3fe17'), 'name': 'Richard'}\n",
      "{'_id': ObjectId('63bfe85c7d93281ceeb3fe18'), 'name': 'Susan'}\n",
      "{'_id': ObjectId('63bfe85c7d93281ceeb3fe19'), 'name': 'Vicky'}\n",
      "{'_id': ObjectId('63bfe85c7d93281ceeb3fe1a'), 'name': 'Ben'}\n",
      "{'_id': ObjectId('63bfe85c7d93281ceeb3fe1b'), 'name': 'William'}\n",
      "{'_id': ObjectId('63bfe85c7d93281ceeb3fe1c'), 'name': 'Chuck'}\n",
      "{'_id': ObjectId('63bfe85c7d93281ceeb3fe1d'), 'name': 'Viola'}\n"
     ]
    }
   ],
   "source": [
    "for x in mycol.find({},{ \"address\": 0 }):\n",
    "    print(x)"
   ]
  },
  {
   "cell_type": "code",
   "execution_count": 14,
   "id": "d3875fdf",
   "metadata": {
    "scrolled": true
   },
   "outputs": [
    {
     "name": "stdout",
     "output_type": "stream",
     "text": [
      "Cannot do exclusion on field address in inclusion projection, full error: {'ok': 0.0, 'errmsg': 'Cannot do exclusion on field address in inclusion projection', 'code': 31254, 'codeName': 'Location31254'}\n"
     ]
    }
   ],
   "source": [
    "try:\n",
    "    for x in mycol.find({},{ \"name\": 1, \"address\": 0 }):\n",
    "        print(x)\n",
    "except Exception as e:\n",
    "    print(e)"
   ]
  },
  {
   "cell_type": "code",
   "execution_count": 15,
   "id": "cfcb1196",
   "metadata": {},
   "outputs": [
    {
     "name": "stdout",
     "output_type": "stream",
     "text": [
      "{'_id': ObjectId('63bfe6fff10999cc549b9bbd'), 'name': 'Ben', 'address': 'Park Lane 38'}\n",
      "{'_id': ObjectId('63bfe85c7d93281ceeb3fe1a'), 'name': 'Ben', 'address': 'Park Lane 38'}\n"
     ]
    }
   ],
   "source": [
    "myquery = { \"address\": \"Park Lane 38\" }\n",
    "mydoc = mycol.find(myquery)\n",
    "\n",
    "for x in mydoc:\n",
    "    print(x)"
   ]
  },
  {
   "cell_type": "code",
   "execution_count": 16,
   "id": "442c83cc",
   "metadata": {},
   "outputs": [
    {
     "name": "stdout",
     "output_type": "stream",
     "text": [
      "{'_id': ObjectId('63bfe6fff10999cc549b9bbc'), 'name': 'Vicky', 'address': 'Yellow Garden 2'}\n",
      "{'_id': ObjectId('63bfe85c7d93281ceeb3fe14'), 'name': 'Michael', 'address': 'Valley 345'}\n",
      "{'_id': ObjectId('63bfe85c7d93281ceeb3fe17'), 'name': 'Richard', 'address': 'Sky st 331'}\n",
      "{'_id': ObjectId('63bfe85c7d93281ceeb3fe19'), 'name': 'Vicky', 'address': 'Yellow Garden 2'}\n",
      "{'_id': ObjectId('63bfe85c7d93281ceeb3fe1d'), 'name': 'Viola', 'address': 'Sideway 1633'}\n"
     ]
    }
   ],
   "source": [
    "myquery = { \"address\": { \"$gt\": \"S\" } }\n",
    "mydoc = mycol.find(myquery)\n",
    "\n",
    "for x in mydoc:\n",
    "    print(x)"
   ]
  },
  {
   "cell_type": "code",
   "execution_count": 17,
   "id": "2b75ff4f",
   "metadata": {},
   "outputs": [
    {
     "name": "stdout",
     "output_type": "stream",
     "text": [
      "{'_id': ObjectId('63bfe6fff10999cc549b9bb3'), 'name': 'John', 'address': 'Highway 37'}\n",
      "{'_id': ObjectId('63bfe6fff10999cc549b9bb4'), 'name': 'Peter', 'address': 'Lowstreet 27'}\n",
      "{'_id': ObjectId('63bfe6fff10999cc549b9bb5'), 'name': 'Minnie', 'address': 'Apple st 652'}\n",
      "{'_id': ObjectId('63bfe6fff10999cc549b9bb7'), 'name': 'Michael', 'address': 'Canyon 123'}\n",
      "{'_id': ObjectId('63bfe6fff10999cc549b9bb8'), 'name': 'Minnie', 'address': 'Ocean blvd 2'}\n",
      "{'_id': ObjectId('63bfe6fff10999cc549b9bb9'), 'name': 'Betty', 'address': 'Green Grass 1'}\n",
      "{'_id': ObjectId('63bfe6fff10999cc549b9bbb'), 'name': 'Minnie', 'address': 'One way 98'}\n",
      "{'_id': ObjectId('63bfe6fff10999cc549b9bbd'), 'name': 'Ben', 'address': 'Park Lane 38'}\n",
      "{'_id': ObjectId('63bfe6fff10999cc549b9bbe'), 'name': 'William', 'address': 'Central st 954'}\n",
      "{'_id': ObjectId('63bfe6fff10999cc549b9bbf'), 'name': 'Chuck', 'address': 'Main Road 989'}\n",
      "{'_id': ObjectId('63bfe84e7c4922f32253b4d8'), 'name': 'John', 'address': 'Highway 37'}\n",
      "{'_id': ObjectId('63bfe85c7d93281ceeb3fe10'), 'name': 'John', 'address': 'Highway 37'}\n",
      "{'_id': ObjectId('63bfe85c7d93281ceeb3fe11'), 'name': 'Peter', 'address': 'Lowstreet 27'}\n",
      "{'_id': ObjectId('63bfe85c7d93281ceeb3fe12'), 'name': 'Amy', 'address': 'Apple st 652'}\n",
      "{'_id': ObjectId('63bfe85c7d93281ceeb3fe13'), 'name': 'Hannah', 'address': 'Mountain 21'}\n",
      "{'_id': ObjectId('63bfe85c7d93281ceeb3fe15'), 'name': 'Sandy', 'address': 'Ocean blvd 2'}\n",
      "{'_id': ObjectId('63bfe85c7d93281ceeb3fe16'), 'name': 'Betty', 'address': 'Green Grass 1'}\n",
      "{'_id': ObjectId('63bfe85c7d93281ceeb3fe18'), 'name': 'Susan', 'address': 'One way 98'}\n",
      "{'_id': ObjectId('63bfe85c7d93281ceeb3fe1a'), 'name': 'Ben', 'address': 'Park Lane 38'}\n",
      "{'_id': ObjectId('63bfe85c7d93281ceeb3fe1b'), 'name': 'William', 'address': 'Central st 954'}\n",
      "{'_id': ObjectId('63bfe85c7d93281ceeb3fe1c'), 'name': 'Chuck', 'address': 'Main Road 989'}\n"
     ]
    }
   ],
   "source": [
    "myquery = { \"address\": { \"$lt\": \"S\" } }\n",
    "mydoc = mycol.find(myquery)\n",
    "\n",
    "for x in mydoc:\n",
    "    print(x)"
   ]
  },
  {
   "cell_type": "code",
   "execution_count": 18,
   "id": "df3397b9",
   "metadata": {},
   "outputs": [
    {
     "name": "stdout",
     "output_type": "stream",
     "text": [
      "{'_id': ObjectId('63bfe85c7d93281ceeb3fe17'), 'name': 'Richard', 'address': 'Sky st 331'}\n",
      "{'_id': ObjectId('63bfe85c7d93281ceeb3fe1d'), 'name': 'Viola', 'address': 'Sideway 1633'}\n"
     ]
    }
   ],
   "source": [
    "myquery = { \"address\": { \"$regex\": \"^S\" } }\n",
    "mydoc = mycol.find(myquery)\n",
    "\n",
    "for x in mydoc:\n",
    "    print(x)"
   ]
  },
  {
   "cell_type": "code",
   "execution_count": 19,
   "id": "97bfe152",
   "metadata": {
    "scrolled": true
   },
   "outputs": [
    {
     "name": "stdout",
     "output_type": "stream",
     "text": [
      "{'_id': ObjectId('63bfe85c7d93281ceeb3fe12'), 'name': 'Amy', 'address': 'Apple st 652'}\n",
      "{'_id': ObjectId('63bfe6fff10999cc549b9bbd'), 'name': 'Ben', 'address': 'Park Lane 38'}\n",
      "{'_id': ObjectId('63bfe85c7d93281ceeb3fe1a'), 'name': 'Ben', 'address': 'Park Lane 38'}\n",
      "{'_id': ObjectId('63bfe6fff10999cc549b9bb9'), 'name': 'Betty', 'address': 'Green Grass 1'}\n",
      "{'_id': ObjectId('63bfe85c7d93281ceeb3fe16'), 'name': 'Betty', 'address': 'Green Grass 1'}\n",
      "{'_id': ObjectId('63bfe6fff10999cc549b9bbf'), 'name': 'Chuck', 'address': 'Main Road 989'}\n",
      "{'_id': ObjectId('63bfe85c7d93281ceeb3fe1c'), 'name': 'Chuck', 'address': 'Main Road 989'}\n",
      "{'_id': ObjectId('63bfe85c7d93281ceeb3fe13'), 'name': 'Hannah', 'address': 'Mountain 21'}\n",
      "{'_id': ObjectId('63bfe6fff10999cc549b9bb3'), 'name': 'John', 'address': 'Highway 37'}\n",
      "{'_id': ObjectId('63bfe84e7c4922f32253b4d8'), 'name': 'John', 'address': 'Highway 37'}\n",
      "{'_id': ObjectId('63bfe85c7d93281ceeb3fe10'), 'name': 'John', 'address': 'Highway 37'}\n",
      "{'_id': ObjectId('63bfe6fff10999cc549b9bb7'), 'name': 'Michael', 'address': 'Canyon 123'}\n",
      "{'_id': ObjectId('63bfe85c7d93281ceeb3fe14'), 'name': 'Michael', 'address': 'Valley 345'}\n",
      "{'_id': ObjectId('63bfe6fff10999cc549b9bb5'), 'name': 'Minnie', 'address': 'Apple st 652'}\n",
      "{'_id': ObjectId('63bfe6fff10999cc549b9bb8'), 'name': 'Minnie', 'address': 'Ocean blvd 2'}\n",
      "{'_id': ObjectId('63bfe6fff10999cc549b9bbb'), 'name': 'Minnie', 'address': 'One way 98'}\n",
      "{'_id': ObjectId('63bfe6fff10999cc549b9bb4'), 'name': 'Peter', 'address': 'Lowstreet 27'}\n",
      "{'_id': ObjectId('63bfe85c7d93281ceeb3fe11'), 'name': 'Peter', 'address': 'Lowstreet 27'}\n",
      "{'_id': ObjectId('63bfe85c7d93281ceeb3fe17'), 'name': 'Richard', 'address': 'Sky st 331'}\n",
      "{'_id': ObjectId('63bfe85c7d93281ceeb3fe15'), 'name': 'Sandy', 'address': 'Ocean blvd 2'}\n",
      "{'_id': ObjectId('63bfe85c7d93281ceeb3fe18'), 'name': 'Susan', 'address': 'One way 98'}\n",
      "{'_id': ObjectId('63bfe6fff10999cc549b9bbc'), 'name': 'Vicky', 'address': 'Yellow Garden 2'}\n",
      "{'_id': ObjectId('63bfe85c7d93281ceeb3fe19'), 'name': 'Vicky', 'address': 'Yellow Garden 2'}\n",
      "{'_id': ObjectId('63bfe85c7d93281ceeb3fe1d'), 'name': 'Viola', 'address': 'Sideway 1633'}\n",
      "{'_id': ObjectId('63bfe6fff10999cc549b9bbe'), 'name': 'William', 'address': 'Central st 954'}\n",
      "{'_id': ObjectId('63bfe85c7d93281ceeb3fe1b'), 'name': 'William', 'address': 'Central st 954'}\n"
     ]
    }
   ],
   "source": [
    "mydoc = mycol.find().sort(\"name\")\n",
    "\n",
    "for x in mydoc:\n",
    "    print(x)"
   ]
  },
  {
   "cell_type": "code",
   "execution_count": 20,
   "id": "1b5ab5e5",
   "metadata": {
    "scrolled": true
   },
   "outputs": [
    {
     "name": "stdout",
     "output_type": "stream",
     "text": [
      "{'_id': ObjectId('63bfe6fff10999cc549b9bbe'), 'name': 'William', 'address': 'Central st 954'}\n",
      "{'_id': ObjectId('63bfe85c7d93281ceeb3fe1b'), 'name': 'William', 'address': 'Central st 954'}\n",
      "{'_id': ObjectId('63bfe85c7d93281ceeb3fe1d'), 'name': 'Viola', 'address': 'Sideway 1633'}\n",
      "{'_id': ObjectId('63bfe6fff10999cc549b9bbc'), 'name': 'Vicky', 'address': 'Yellow Garden 2'}\n",
      "{'_id': ObjectId('63bfe85c7d93281ceeb3fe19'), 'name': 'Vicky', 'address': 'Yellow Garden 2'}\n",
      "{'_id': ObjectId('63bfe85c7d93281ceeb3fe18'), 'name': 'Susan', 'address': 'One way 98'}\n",
      "{'_id': ObjectId('63bfe85c7d93281ceeb3fe15'), 'name': 'Sandy', 'address': 'Ocean blvd 2'}\n",
      "{'_id': ObjectId('63bfe85c7d93281ceeb3fe17'), 'name': 'Richard', 'address': 'Sky st 331'}\n",
      "{'_id': ObjectId('63bfe6fff10999cc549b9bb4'), 'name': 'Peter', 'address': 'Lowstreet 27'}\n",
      "{'_id': ObjectId('63bfe85c7d93281ceeb3fe11'), 'name': 'Peter', 'address': 'Lowstreet 27'}\n",
      "{'_id': ObjectId('63bfe6fff10999cc549b9bb5'), 'name': 'Minnie', 'address': 'Apple st 652'}\n",
      "{'_id': ObjectId('63bfe6fff10999cc549b9bb8'), 'name': 'Minnie', 'address': 'Ocean blvd 2'}\n",
      "{'_id': ObjectId('63bfe6fff10999cc549b9bbb'), 'name': 'Minnie', 'address': 'One way 98'}\n",
      "{'_id': ObjectId('63bfe6fff10999cc549b9bb7'), 'name': 'Michael', 'address': 'Canyon 123'}\n",
      "{'_id': ObjectId('63bfe85c7d93281ceeb3fe14'), 'name': 'Michael', 'address': 'Valley 345'}\n",
      "{'_id': ObjectId('63bfe6fff10999cc549b9bb3'), 'name': 'John', 'address': 'Highway 37'}\n",
      "{'_id': ObjectId('63bfe84e7c4922f32253b4d8'), 'name': 'John', 'address': 'Highway 37'}\n",
      "{'_id': ObjectId('63bfe85c7d93281ceeb3fe10'), 'name': 'John', 'address': 'Highway 37'}\n",
      "{'_id': ObjectId('63bfe85c7d93281ceeb3fe13'), 'name': 'Hannah', 'address': 'Mountain 21'}\n",
      "{'_id': ObjectId('63bfe6fff10999cc549b9bbf'), 'name': 'Chuck', 'address': 'Main Road 989'}\n",
      "{'_id': ObjectId('63bfe85c7d93281ceeb3fe1c'), 'name': 'Chuck', 'address': 'Main Road 989'}\n",
      "{'_id': ObjectId('63bfe6fff10999cc549b9bb9'), 'name': 'Betty', 'address': 'Green Grass 1'}\n",
      "{'_id': ObjectId('63bfe85c7d93281ceeb3fe16'), 'name': 'Betty', 'address': 'Green Grass 1'}\n",
      "{'_id': ObjectId('63bfe6fff10999cc549b9bbd'), 'name': 'Ben', 'address': 'Park Lane 38'}\n",
      "{'_id': ObjectId('63bfe85c7d93281ceeb3fe1a'), 'name': 'Ben', 'address': 'Park Lane 38'}\n",
      "{'_id': ObjectId('63bfe85c7d93281ceeb3fe12'), 'name': 'Amy', 'address': 'Apple st 652'}\n"
     ]
    }
   ],
   "source": [
    "mydoc = mycol.find().sort(\"name\", -1)\n",
    "\n",
    "for x in mydoc:\n",
    "    print(x)"
   ]
  },
  {
   "cell_type": "code",
   "execution_count": 21,
   "id": "5ea7a218",
   "metadata": {},
   "outputs": [
    {
     "data": {
      "text/plain": [
       "<pymongo.results.DeleteResult at 0x25ecbd651f0>"
      ]
     },
     "execution_count": 21,
     "metadata": {},
     "output_type": "execute_result"
    }
   ],
   "source": [
    "myquery = { \"address\": \"Mountain 21\" }\n",
    "\n",
    "mycol.delete_one(myquery)"
   ]
  },
  {
   "cell_type": "code",
   "execution_count": 22,
   "id": "bae6a311",
   "metadata": {},
   "outputs": [
    {
     "name": "stdout",
     "output_type": "stream",
     "text": [
      "2  documents deleted.\n"
     ]
    }
   ],
   "source": [
    "myquery = { \"address\": {\"$regex\": \"^S\"} }\n",
    "x = mycol.delete_many(myquery)\n",
    "\n",
    "print(x.deleted_count, \" documents deleted.\")"
   ]
  },
  {
   "cell_type": "code",
   "execution_count": 23,
   "id": "b304f82f",
   "metadata": {},
   "outputs": [],
   "source": [
    "# mycol.drop()"
   ]
  },
  {
   "cell_type": "code",
   "execution_count": 24,
   "id": "98ebb88a",
   "metadata": {},
   "outputs": [
    {
     "name": "stdout",
     "output_type": "stream",
     "text": [
      "{'_id': ObjectId('63bfe6fff10999cc549b9bb3'), 'name': 'John', 'address': 'Highway 37'}\n",
      "{'_id': ObjectId('63bfe6fff10999cc549b9bb4'), 'name': 'Peter', 'address': 'Lowstreet 27'}\n",
      "{'_id': ObjectId('63bfe6fff10999cc549b9bb5'), 'name': 'Minnie', 'address': 'Apple st 652'}\n",
      "{'_id': ObjectId('63bfe6fff10999cc549b9bb7'), 'name': 'Michael', 'address': 'Canyon 123'}\n",
      "{'_id': ObjectId('63bfe6fff10999cc549b9bb8'), 'name': 'Minnie', 'address': 'Ocean blvd 2'}\n",
      "{'_id': ObjectId('63bfe6fff10999cc549b9bb9'), 'name': 'Betty', 'address': 'Green Grass 1'}\n",
      "{'_id': ObjectId('63bfe6fff10999cc549b9bbb'), 'name': 'Minnie', 'address': 'One way 98'}\n",
      "{'_id': ObjectId('63bfe6fff10999cc549b9bbc'), 'name': 'Vicky', 'address': 'Yellow Garden 2'}\n",
      "{'_id': ObjectId('63bfe6fff10999cc549b9bbd'), 'name': 'Ben', 'address': 'Park Lane 38'}\n",
      "{'_id': ObjectId('63bfe6fff10999cc549b9bbe'), 'name': 'William', 'address': 'Central st 954'}\n",
      "{'_id': ObjectId('63bfe6fff10999cc549b9bbf'), 'name': 'Chuck', 'address': 'Main Road 989'}\n",
      "{'_id': ObjectId('63bfe84e7c4922f32253b4d8'), 'name': 'John', 'address': 'Highway 37'}\n",
      "{'_id': ObjectId('63bfe85c7d93281ceeb3fe10'), 'name': 'John', 'address': 'Highway 37'}\n",
      "{'_id': ObjectId('63bfe85c7d93281ceeb3fe11'), 'name': 'Peter', 'address': 'Lowstreet 27'}\n",
      "{'_id': ObjectId('63bfe85c7d93281ceeb3fe12'), 'name': 'Amy', 'address': 'Apple st 652'}\n",
      "{'_id': ObjectId('63bfe85c7d93281ceeb3fe14'), 'name': 'Michael', 'address': 'Canyon 123'}\n",
      "{'_id': ObjectId('63bfe85c7d93281ceeb3fe15'), 'name': 'Sandy', 'address': 'Ocean blvd 2'}\n",
      "{'_id': ObjectId('63bfe85c7d93281ceeb3fe16'), 'name': 'Betty', 'address': 'Green Grass 1'}\n",
      "{'_id': ObjectId('63bfe85c7d93281ceeb3fe18'), 'name': 'Susan', 'address': 'One way 98'}\n",
      "{'_id': ObjectId('63bfe85c7d93281ceeb3fe19'), 'name': 'Vicky', 'address': 'Yellow Garden 2'}\n",
      "{'_id': ObjectId('63bfe85c7d93281ceeb3fe1a'), 'name': 'Ben', 'address': 'Park Lane 38'}\n",
      "{'_id': ObjectId('63bfe85c7d93281ceeb3fe1b'), 'name': 'William', 'address': 'Central st 954'}\n",
      "{'_id': ObjectId('63bfe85c7d93281ceeb3fe1c'), 'name': 'Chuck', 'address': 'Main Road 989'}\n"
     ]
    }
   ],
   "source": [
    "myquery = { \"address\": \"Valley 345\" }\n",
    "newvalues = { \"$set\": { \"address\": \"Canyon 123\" } }\n",
    "\n",
    "mycol.update_one(myquery, newvalues)\n",
    "\n",
    "#print \"customers\" after the update:\n",
    "for x in mycol.find():\n",
    "    print(x)"
   ]
  },
  {
   "cell_type": "code",
   "execution_count": 25,
   "id": "1125a691",
   "metadata": {},
   "outputs": [
    {
     "name": "stdout",
     "output_type": "stream",
     "text": [
      "2 documents updated.\n"
     ]
    }
   ],
   "source": [
    "myquery = { \"address\": { \"$regex\": \"^O\" } }\n",
    "newvalues = { \"$set\": { \"name\": \"Minnie\" } }\n",
    "\n",
    "x = mycol.update_many(myquery, newvalues)\n",
    "print(x.modified_count, \"documents updated.\")"
   ]
  },
  {
   "cell_type": "code",
   "execution_count": 26,
   "id": "50a10c42",
   "metadata": {},
   "outputs": [
    {
     "name": "stdout",
     "output_type": "stream",
     "text": [
      "{'_id': ObjectId('63bfe6fff10999cc549b9bb3'), 'name': 'John', 'address': 'Highway 37'}\n",
      "{'_id': ObjectId('63bfe6fff10999cc549b9bb4'), 'name': 'Peter', 'address': 'Lowstreet 27'}\n",
      "{'_id': ObjectId('63bfe6fff10999cc549b9bb5'), 'name': 'Minnie', 'address': 'Apple st 652'}\n",
      "{'_id': ObjectId('63bfe6fff10999cc549b9bb7'), 'name': 'Michael', 'address': 'Canyon 123'}\n",
      "{'_id': ObjectId('63bfe6fff10999cc549b9bb8'), 'name': 'Minnie', 'address': 'Ocean blvd 2'}\n"
     ]
    }
   ],
   "source": [
    "myresult = mycol.find().limit(5)\n",
    "\n",
    "#print the result:\n",
    "for x in myresult:\n",
    "    print(x)"
   ]
  },
  {
   "cell_type": "code",
   "execution_count": null,
   "id": "567a4c9f",
   "metadata": {},
   "outputs": [],
   "source": []
  }
 ],
 "metadata": {
  "kernelspec": {
   "display_name": "Python 3 (ipykernel)",
   "language": "python",
   "name": "python3"
  },
  "language_info": {
   "codemirror_mode": {
    "name": "ipython",
    "version": 3
   },
   "file_extension": ".py",
   "mimetype": "text/x-python",
   "name": "python",
   "nbconvert_exporter": "python",
   "pygments_lexer": "ipython3",
   "version": "3.9.13"
  }
 },
 "nbformat": 4,
 "nbformat_minor": 5
}
