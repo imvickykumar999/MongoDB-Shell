{
 "cells": [
  {
   "cell_type": "markdown",
   "id": "128cb8dd",
   "metadata": {},
   "source": [
    "# [Python Cerberus](https://zetcode.com/python/cerberus/)"
   ]
  },
  {
   "cell_type": "code",
   "execution_count": 1,
   "id": "1baa028c",
   "metadata": {},
   "outputs": [],
   "source": [
    "# !pip install Cerberus"
   ]
  },
  {
   "cell_type": "code",
   "execution_count": 2,
   "id": "3f598112",
   "metadata": {},
   "outputs": [
    {
     "name": "stdout",
     "output_type": "stream",
     "text": [
      "data is valid\n"
     ]
    }
   ],
   "source": [
    "from cerberus import Validator\n",
    "\n",
    "schema = {'name': {'type': 'string'}}\n",
    "v = Validator(schema)\n",
    "\n",
    "document = {'name': 'john doe'}\n",
    "\n",
    "if v.validate(document):\n",
    "    print('data is valid')\n",
    "else:\n",
    "    print('invalid data')"
   ]
  },
  {
   "cell_type": "code",
   "execution_count": 3,
   "id": "e310d89b",
   "metadata": {},
   "outputs": [
    {
     "name": "stdout",
     "output_type": "stream",
     "text": [
      "valid data\n",
      "valid data\n"
     ]
    }
   ],
   "source": [
    "from cerberus import Validator\n",
    "\n",
    "v = Validator()\n",
    "v.schema = {'words': {'type': ['string', 'list']}}\n",
    "\n",
    "if v.validate({'words': 'falcon'}):\n",
    "    print('valid data')\n",
    "else:\n",
    "    print('invalid data')\n",
    "\n",
    "if v.validate({'words': ['falcon', 'sky', 'cloud']}):\n",
    "    print('valid data')\n",
    "else:\n",
    "    print('invalid data')"
   ]
  },
  {
   "cell_type": "code",
   "execution_count": 4,
   "id": "e6f292d1",
   "metadata": {},
   "outputs": [
    {
     "name": "stdout",
     "output_type": "stream",
     "text": [
      "invalid data\n",
      "{'name': ['required field']}\n"
     ]
    }
   ],
   "source": [
    "from cerberus import Validator\n",
    "\n",
    "v = Validator()\n",
    "v.schema = {'name': {'required': True, 'type': 'string'},\n",
    "            'age': {'type': 'integer'}}\n",
    "\n",
    "if v.validate({'age': 34}):\n",
    "    print('valid data')\n",
    "else:\n",
    "    print('invalid data')\n",
    "    print(v.errors)"
   ]
  },
  {
   "cell_type": "code",
   "execution_count": 5,
   "id": "53d3cbb2",
   "metadata": {},
   "outputs": [
    {
     "name": "stdout",
     "output_type": "stream",
     "text": [
      "invalid data\n",
      "{'age': ['min value is 18'], 'name': ['min length is 2']}\n"
     ]
    }
   ],
   "source": [
    "from cerberus import Validator\n",
    "\n",
    "v = Validator()\n",
    "v.schema = {'name': { 'type': 'string', 'minlength': 2},\n",
    "    'age': {'type': 'integer', 'min': 18, 'max': 65}}\n",
    "\n",
    "if v.validate({'name': 'J', 'age': 4}):\n",
    "    print('valid data')\n",
    "else:\n",
    "    print('invalid data')\n",
    "    print(v.errors)"
   ]
  },
  {
   "cell_type": "code",
   "execution_count": 6,
   "id": "47440d92",
   "metadata": {},
   "outputs": [
    {
     "name": "stdout",
     "output_type": "stream",
     "text": [
      "valid data\n",
      "invalid data\n",
      "{'start_date': [\"field 'start_date' cannot be coerced: time data '2019/12/11' does not match format '%Y-%m-%d'\", 'must be of datetime type']}\n"
     ]
    }
   ],
   "source": [
    "from cerberus import Validator\n",
    "from datetime import datetime\n",
    "\n",
    "def to_date(s):\n",
    "    return datetime.strptime(s, '%Y-%m-%d')\n",
    "\n",
    "v = Validator()\n",
    "v.schema = {'start_date': {'type': 'datetime', 'coerce': to_date}}\n",
    "\n",
    "if v.validate({'start_date': '2019-12-11'}):\n",
    "    print('valid data')\n",
    "else:\n",
    "    print('invalid data')\n",
    "    print(v.errors)\n",
    "\n",
    "if v.validate({'start_date': '2019/12/11'}):\n",
    "    print('valid data')\n",
    "else:\n",
    "    print('invalid data')\n",
    "    print(v.errors)"
   ]
  },
  {
   "cell_type": "code",
   "execution_count": null,
   "id": "120ab94d",
   "metadata": {},
   "outputs": [],
   "source": []
  }
 ],
 "metadata": {
  "kernelspec": {
   "display_name": "Python 3 (ipykernel)",
   "language": "python",
   "name": "python3"
  },
  "language_info": {
   "codemirror_mode": {
    "name": "ipython",
    "version": 3
   },
   "file_extension": ".py",
   "mimetype": "text/x-python",
   "name": "python",
   "nbconvert_exporter": "python",
   "pygments_lexer": "ipython3",
   "version": "3.9.13"
  }
 },
 "nbformat": 4,
 "nbformat_minor": 5
}
